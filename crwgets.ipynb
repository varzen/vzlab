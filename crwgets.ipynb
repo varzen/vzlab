{
 "cells":[
  {
   "cell_type":"code",
   "source":[
    "#@title BENCH\n",
    "wget -qO- bench.sh | bash"
   ],
   "execution_count":null,
   "outputs":[],
   "metadata":{
    "datalore":{
     "node_id":"vKTztkvJ5Eb2cCurRMvKzk",
     "type":"CODE",
     "hide_input_from_viewers":true,
     "hide_output_from_viewers":true
    }
   }
  },
  {
   "cell_type":"code",
   "source":[
    "#@title SPEEDTEST\n",
    "curl -s https:\/\/packagecloud.io\/install\/repositories\/ookla\/speedtest-cli\/script.deb.sh | sudo bash\n",
    "sudo apt-get install speedtest"
   ],
   "execution_count":null,
   "outputs":[],
   "metadata":{
    "datalore":{
     "node_id":"VSXoo5lxgRcNjYtJuIqTvC",
     "type":"CODE",
     "hide_input_from_viewers":true,
     "hide_output_from_viewers":true
    }
   }
  },
  {
   "cell_type":"code",
   "source":[
    "#@title YTDLP INSTALL\n",
    "!pip install yt-dlp"
   ],
   "execution_count":null,
   "outputs":[],
   "metadata":{
    "datalore":{
     "node_id":"eYWBkoep5ZgInlKEBUFwiB",
     "type":"CODE",
     "hide_input_from_viewers":true,
     "hide_output_from_viewers":true
    }
   }
  },
  {
   "cell_type":"code",
   "source":[
    "#@title YTDLP RUN\n",
    "!cd \"\/content\/drive\/Shareddrives\/N.0\/download\/\" && yt-dlp --cookies ..\/cookies.txt"
   ],
   "execution_count":null,
   "outputs":[],
   "metadata":{
    "datalore":{
     "node_id":"B3pXmisTkZ1EKF9qQ3muZR",
     "type":"CODE",
     "hide_input_from_viewers":true,
     "hide_output_from_viewers":true
    }
   }
  },
  {
   "cell_type":"code",
   "source":[
    "#@title Xray\n",
    "!wget -qO- varzenlab.web.app\/xray.sh | bash"
   ],
   "execution_count":null,
   "outputs":[],
   "metadata":{
    "datalore":{
     "node_id":"D0Q2m8MWg9FxFKg2y5Cz9N",
     "type":"CODE",
     "hide_input_from_viewers":true,
     "hide_output_from_viewers":true
    }
   }
  },
  {
   "cell_type":"code",
   "source":[
    "#@title BT\/AAPANEL\n",
    "curl -sSO https:\/\/raw.githubusercontent.com\/8838\/btpanel-v7.7.0\/main\/install\/install_panel.sh && bash install_panel.sh <<< \"y\"\n",
    "rm -f \/www\/server\/panel\/data\/bind.pl\n",
    "bt 5  <<< \"xgdtxgdt\"\n",
    "bt 6  <<< \"varzen\"\n",
    "bt 11\n",
    "bt 8  <<< \"8700\"\n",
    "wget https:\/\/varzenlab.web.app\/tun.json\n",
    "wget https:\/\/varzenlab.web.app\/tun.pem\n",
    "wget \"https:\/\/github.com\/cloudflare\/cloudflared\/releases\/latest\/download\/cloudflared-linux-amd64\" -O cloudflared-linux-amd64\n",
    "chmod 777 .\/*\n",
    ".\/cloudflared-linux-amd64 tunnel --name xgdt --url http:\/\/localhost:8700 --credentials-file .\/tun.json --origincert .\/tun.pem"
   ],
   "execution_count":null,
   "outputs":[],
   "metadata":{
    "datalore":{
     "node_id":"P2s7v7A0azpgDMkxfeWxz7",
     "type":"CODE",
     "hide_input_from_viewers":true,
     "hide_output_from_viewers":true
    }
   }
  },
  {
   "cell_type":"code",
   "source":[
    "#@title RCLONE CONFIG\n",
    "!echo [debug-content] > rclone.conf\n",
    "!echo type = drive >> rclone.conf\n",
    "!echo scope = drive >> rclone.conf\n",
    "!echo root_folder_id =  >> rclone.conf\n",
    "!echo service_account_file = account-debug.json >> rclone.conf\n",
    "!echo use_trash = false >> rclone.conf\n",
    "!echo upload_cutoff = 5Ti >> rclone.conf\n",
    "!echo chunk_size = 32Mi >> rclone.conf\n",
    "!echo acknowledge_abuse = true >> rclone.conf\n",
    "!echo team_drive = >> rclone.conf"
   ],
   "execution_count":null,
   "outputs":[],
   "metadata":{
    "datalore":{
     "node_id":"Ku1slSIKjqky333AGvhYPN",
     "type":"CODE",
     "hide_input_from_viewers":true,
     "hide_output_from_viewers":true
    }
   }
  },
  {
   "cell_type":"code",
   "source":[
    "!.\/rclone about debug-content:"
   ],
   "execution_count":null,
   "outputs":[],
   "metadata":{
    "datalore":{
     "node_id":"gIBpXMID6QAxMyAIzGofS5",
     "type":"CODE",
     "hide_input_from_viewers":true,
     "hide_output_from_viewers":true
    }
   }
  }
 ],
 "metadata":{
  "kernelspec":{
   "display_name":"Python",
   "language":"python",
   "name":"python"
  },
  "datalore":{
   "computation_mode":"JUPYTER",
   "package_manager":"pip",
   "base_environment":"default",
   "packages":[],
   "report_row_ids":[],
   "report_tabs":[],
   "version":4
  }
 },
 "nbformat":4,
 "nbformat_minor":4
}